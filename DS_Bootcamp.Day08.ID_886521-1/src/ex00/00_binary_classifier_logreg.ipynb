{
 "cells": [
  {
   "cell_type": "markdown",
   "metadata": {},
   "source": [
    "# Day 08. Exercise 00\n",
    "# Binary classifier. Logistic regression"
   ]
  },
  {
   "cell_type": "markdown",
   "metadata": {},
   "source": [
    "## 0. Imports"
   ]
  },
  {
   "cell_type": "code",
   "execution_count": 2,
   "metadata": {},
   "outputs": [],
   "source": [
    "import pandas as pd\n",
    "import matplotlib.pyplot as plt\n",
    "from sklearn.linear_model import LogisticRegression\n",
    "from sklearn.metrics import accuracy_score"
   ]
  },
  {
   "cell_type": "markdown",
   "metadata": {},
   "source": [
    "## 1. Preprocessing"
   ]
  },
  {
   "cell_type": "markdown",
   "metadata": {},
   "source": [
    "- Get the data from the file [`checker-timestamp.csv`](https://drive.google.com/file/d/1pooM4cITtG249msX3GK_6W0eEiblzAf5/view?usp=sharing).\n",
    "\n",
    "\n",
    "- Create a dataframe `df` with the columns: `date`, `am`, `pm`, `target`, where `date` is the date of the day, `am` is the number of the commits during the day before midday (integer), `pm` is the number of commits during the day after midday (integer), `target` is weekend/working_day."
   ]
  },
  {
   "cell_type": "code",
   "execution_count": 3,
   "metadata": {},
   "outputs": [
    {
     "data": {
      "text/html": [
       "<div>\n",
       "<style scoped>\n",
       "    .dataframe tbody tr th:only-of-type {\n",
       "        vertical-align: middle;\n",
       "    }\n",
       "\n",
       "    .dataframe tbody tr th {\n",
       "        vertical-align: top;\n",
       "    }\n",
       "\n",
       "    .dataframe thead th {\n",
       "        text-align: right;\n",
       "    }\n",
       "</style>\n",
       "<table border=\"1\" class=\"dataframe\">\n",
       "  <thead>\n",
       "    <tr style=\"text-align: right;\">\n",
       "      <th></th>\n",
       "      <th>date</th>\n",
       "      <th>am</th>\n",
       "      <th>pm</th>\n",
       "      <th>target</th>\n",
       "    </tr>\n",
       "  </thead>\n",
       "  <tbody>\n",
       "    <tr>\n",
       "      <th>0</th>\n",
       "      <td>2020-04-17</td>\n",
       "      <td>1</td>\n",
       "      <td>0</td>\n",
       "      <td>working</td>\n",
       "    </tr>\n",
       "    <tr>\n",
       "      <th>1</th>\n",
       "      <td>2020-04-17</td>\n",
       "      <td>1</td>\n",
       "      <td>0</td>\n",
       "      <td>working</td>\n",
       "    </tr>\n",
       "    <tr>\n",
       "      <th>2</th>\n",
       "      <td>2020-04-17</td>\n",
       "      <td>1</td>\n",
       "      <td>0</td>\n",
       "      <td>working</td>\n",
       "    </tr>\n",
       "    <tr>\n",
       "      <th>3</th>\n",
       "      <td>2020-04-17</td>\n",
       "      <td>1</td>\n",
       "      <td>0</td>\n",
       "      <td>working</td>\n",
       "    </tr>\n",
       "    <tr>\n",
       "      <th>4</th>\n",
       "      <td>2020-04-17</td>\n",
       "      <td>1</td>\n",
       "      <td>0</td>\n",
       "      <td>working</td>\n",
       "    </tr>\n",
       "    <tr>\n",
       "      <th>...</th>\n",
       "      <td>...</td>\n",
       "      <td>...</td>\n",
       "      <td>...</td>\n",
       "      <td>...</td>\n",
       "    </tr>\n",
       "    <tr>\n",
       "      <th>3202</th>\n",
       "      <td>2020-05-21</td>\n",
       "      <td>0</td>\n",
       "      <td>1</td>\n",
       "      <td>working</td>\n",
       "    </tr>\n",
       "    <tr>\n",
       "      <th>3203</th>\n",
       "      <td>2020-05-21</td>\n",
       "      <td>0</td>\n",
       "      <td>1</td>\n",
       "      <td>working</td>\n",
       "    </tr>\n",
       "    <tr>\n",
       "      <th>3204</th>\n",
       "      <td>2020-05-21</td>\n",
       "      <td>0</td>\n",
       "      <td>1</td>\n",
       "      <td>working</td>\n",
       "    </tr>\n",
       "    <tr>\n",
       "      <th>3205</th>\n",
       "      <td>2020-05-21</td>\n",
       "      <td>0</td>\n",
       "      <td>1</td>\n",
       "      <td>working</td>\n",
       "    </tr>\n",
       "    <tr>\n",
       "      <th>3206</th>\n",
       "      <td>2020-05-21</td>\n",
       "      <td>0</td>\n",
       "      <td>1</td>\n",
       "      <td>working</td>\n",
       "    </tr>\n",
       "  </tbody>\n",
       "</table>\n",
       "<p>3207 rows × 4 columns</p>\n",
       "</div>"
      ],
      "text/plain": [
       "            date  am  pm   target\n",
       "0     2020-04-17   1   0  working\n",
       "1     2020-04-17   1   0  working\n",
       "2     2020-04-17   1   0  working\n",
       "3     2020-04-17   1   0  working\n",
       "4     2020-04-17   1   0  working\n",
       "...          ...  ..  ..      ...\n",
       "3202  2020-05-21   0   1  working\n",
       "3203  2020-05-21   0   1  working\n",
       "3204  2020-05-21   0   1  working\n",
       "3205  2020-05-21   0   1  working\n",
       "3206  2020-05-21   0   1  working\n",
       "\n",
       "[3207 rows x 4 columns]"
      ]
     },
     "execution_count": 3,
     "metadata": {},
     "output_type": "execute_result"
    }
   ],
   "source": [
    "df=pd.read_csv('../data/checker_timestamp.csv')\n",
    "df['date']=pd.DatetimeIndex(df['timestamp']).date\n",
    "df['hour']=pd.DatetimeIndex(df['timestamp']).hour\n",
    "df['am']=df['hour'].apply(lambda x: 1 if x<12 else 0)\n",
    "df['pm']=df['hour'].apply(lambda x: 1 if x>=12 else 0)\n",
    "df['day']=pd.DatetimeIndex(df['timestamp']).weekday\n",
    "df['target']=df['day'].apply(lambda x: 'working' if x<5 else 'weekend')\n",
    "df.drop(columns=['day', 'hour', 'timestamp'], inplace=True)\n",
    "df"
   ]
  },
  {
   "cell_type": "code",
   "execution_count": 4,
   "metadata": {},
   "outputs": [
    {
     "data": {
      "text/html": [
       "<div>\n",
       "<style scoped>\n",
       "    .dataframe tbody tr th:only-of-type {\n",
       "        vertical-align: middle;\n",
       "    }\n",
       "\n",
       "    .dataframe tbody tr th {\n",
       "        vertical-align: top;\n",
       "    }\n",
       "\n",
       "    .dataframe thead th {\n",
       "        text-align: right;\n",
       "    }\n",
       "</style>\n",
       "<table border=\"1\" class=\"dataframe\">\n",
       "  <thead>\n",
       "    <tr style=\"text-align: right;\">\n",
       "      <th></th>\n",
       "      <th>am</th>\n",
       "      <th>pm</th>\n",
       "      <th>target</th>\n",
       "    </tr>\n",
       "    <tr>\n",
       "      <th>date</th>\n",
       "      <th></th>\n",
       "      <th></th>\n",
       "      <th></th>\n",
       "    </tr>\n",
       "  </thead>\n",
       "  <tbody>\n",
       "    <tr>\n",
       "      <th>2020-04-17</th>\n",
       "      <td>21</td>\n",
       "      <td>2</td>\n",
       "      <td>working</td>\n",
       "    </tr>\n",
       "    <tr>\n",
       "      <th>2020-04-18</th>\n",
       "      <td>1</td>\n",
       "      <td>68</td>\n",
       "      <td>weekend</td>\n",
       "    </tr>\n",
       "    <tr>\n",
       "      <th>2020-04-19</th>\n",
       "      <td>18</td>\n",
       "      <td>15</td>\n",
       "      <td>weekend</td>\n",
       "    </tr>\n",
       "    <tr>\n",
       "      <th>2020-04-20</th>\n",
       "      <td>2</td>\n",
       "      <td>23</td>\n",
       "      <td>working</td>\n",
       "    </tr>\n",
       "    <tr>\n",
       "      <th>2020-04-21</th>\n",
       "      <td>0</td>\n",
       "      <td>25</td>\n",
       "      <td>working</td>\n",
       "    </tr>\n",
       "  </tbody>\n",
       "</table>\n",
       "</div>"
      ],
      "text/plain": [
       "            am  pm   target\n",
       "date                       \n",
       "2020-04-17  21   2  working\n",
       "2020-04-18   1  68  weekend\n",
       "2020-04-19  18  15  weekend\n",
       "2020-04-20   2  23  working\n",
       "2020-04-21   0  25  working"
      ]
     },
     "execution_count": 4,
     "metadata": {},
     "output_type": "execute_result"
    }
   ],
   "source": [
    "df=df.groupby(by='date').agg({'am':'sum', 'pm':'sum', 'target':'first'}) #для таргета возьмет первое встретившееся значение для даты\n",
    "df.head()"
   ]
  },
  {
   "cell_type": "markdown",
   "metadata": {},
   "source": [
    "## 2. Exploratory analysis"
   ]
  },
  {
   "cell_type": "markdown",
   "metadata": {},
   "source": [
    "- Create a plot where `x` is am, `y` is pm, each dot is a day, working days and weekends must have different colors.\n",
    "\n",
    "\n",
    "- By looking at the graph do you think it will be easy to classify the days having those two features? Put your answer in the markdown cell in the end of that sectioin: \"yes, it is easy\" or \"no, it is not easy\"."
   ]
  },
  {
   "cell_type": "code",
   "execution_count": 5,
   "metadata": {},
   "outputs": [
    {
     "data": {
      "image/png": "[encoded data removed]",
      "text/plain": [
       "<Figure size 640x480 with 1 Axes>"
      ]
     },
     "metadata": {},
     "output_type": "display_data"
    }
   ],
   "source": [
    "colors=df['target'].map({'working':'purple', 'weekend':'c'})\n",
    "\n",
    "plt.scatter(x=df['am'], y=df['pm'], c=colors)\n",
    "plt.xlabel('am')\n",
    "plt.ylabel('pm')\n",
    "plt.grid()"
   ]
  },
  {
   "cell_type": "markdown",
   "metadata": {},
   "source": [
    "no, it is hard"
   ]
  },
  {
   "cell_type": "markdown",
   "metadata": {},
   "source": [
    "## 3. Logistic regression"
   ]
  },
  {
   "cell_type": "markdown",
   "metadata": {},
   "source": [
    "- Train logistic regression on your data using `am` and `pm`, parameters are: `random state=21`, `fit_intercept=False`.\n",
    "\n",
    "\n",
    "- Make predictions for every day of your dataset and add them to your dataframe with the column name `predict`.\n",
    "\n",
    "\n",
    "- Save the dataframe into a file in the subfolder of the day `data` with the name `am_pm.csv`.\n",
    "\n",
    "\n",
    "- Draw another plot like you did before, but the color should be taken from the `predict`.\n",
    "\n",
    "\n",
    "- By looking at the graph do you think if it made good predictions? Put your answer in the markdown cell in the end of that section: \"yes, it is good\"; \"no, it is not good\"."
   ]
  },
  {
   "cell_type": "markdown",
   "metadata": {},
   "source": [
    "прогноз таргета для каждого дня"
   ]
  },
  {
   "cell_type": "code",
   "execution_count": 6,
   "metadata": {},
   "outputs": [
    {
     "name": "stderr",
     "output_type": "stream",
     "text": [
      "/home/shep_nst/.local/lib/python3.10/site-packages/sklearn/utils/validation.py:2732: UserWarning: X has feature names, but LogisticRegression was fitted without feature names\n",
      "  warnings.warn(\n"
     ]
    },
    {
     "data": {
      "text/html": [
       "<div>\n",
       "<style scoped>\n",
       "    .dataframe tbody tr th:only-of-type {\n",
       "        vertical-align: middle;\n",
       "    }\n",
       "\n",
       "    .dataframe tbody tr th {\n",
       "        vertical-align: top;\n",
       "    }\n",
       "\n",
       "    .dataframe thead th {\n",
       "        text-align: right;\n",
       "    }\n",
       "</style>\n",
       "<table border=\"1\" class=\"dataframe\">\n",
       "  <thead>\n",
       "    <tr style=\"text-align: right;\">\n",
       "      <th></th>\n",
       "      <th>am</th>\n",
       "      <th>pm</th>\n",
       "      <th>target</th>\n",
       "      <th>predict</th>\n",
       "    </tr>\n",
       "    <tr>\n",
       "      <th>date</th>\n",
       "      <th></th>\n",
       "      <th></th>\n",
       "      <th></th>\n",
       "      <th></th>\n",
       "    </tr>\n",
       "  </thead>\n",
       "  <tbody>\n",
       "    <tr>\n",
       "      <th>2020-04-17</th>\n",
       "      <td>21</td>\n",
       "      <td>2</td>\n",
       "      <td>working</td>\n",
       "      <td>weekend</td>\n",
       "    </tr>\n",
       "    <tr>\n",
       "      <th>2020-04-18</th>\n",
       "      <td>1</td>\n",
       "      <td>68</td>\n",
       "      <td>weekend</td>\n",
       "      <td>working</td>\n",
       "    </tr>\n",
       "    <tr>\n",
       "      <th>2020-04-19</th>\n",
       "      <td>18</td>\n",
       "      <td>15</td>\n",
       "      <td>weekend</td>\n",
       "      <td>working</td>\n",
       "    </tr>\n",
       "    <tr>\n",
       "      <th>2020-04-20</th>\n",
       "      <td>2</td>\n",
       "      <td>23</td>\n",
       "      <td>working</td>\n",
       "      <td>working</td>\n",
       "    </tr>\n",
       "    <tr>\n",
       "      <th>2020-04-21</th>\n",
       "      <td>0</td>\n",
       "      <td>25</td>\n",
       "      <td>working</td>\n",
       "      <td>working</td>\n",
       "    </tr>\n",
       "    <tr>\n",
       "      <th>2020-04-22</th>\n",
       "      <td>0</td>\n",
       "      <td>28</td>\n",
       "      <td>working</td>\n",
       "      <td>working</td>\n",
       "    </tr>\n",
       "    <tr>\n",
       "      <th>2020-04-23</th>\n",
       "      <td>10</td>\n",
       "      <td>33</td>\n",
       "      <td>working</td>\n",
       "      <td>working</td>\n",
       "    </tr>\n",
       "    <tr>\n",
       "      <th>2020-04-24</th>\n",
       "      <td>2</td>\n",
       "      <td>14</td>\n",
       "      <td>working</td>\n",
       "      <td>working</td>\n",
       "    </tr>\n",
       "    <tr>\n",
       "      <th>2020-04-25</th>\n",
       "      <td>30</td>\n",
       "      <td>74</td>\n",
       "      <td>weekend</td>\n",
       "      <td>working</td>\n",
       "    </tr>\n",
       "    <tr>\n",
       "      <th>2020-04-26</th>\n",
       "      <td>28</td>\n",
       "      <td>233</td>\n",
       "      <td>weekend</td>\n",
       "      <td>working</td>\n",
       "    </tr>\n",
       "  </tbody>\n",
       "</table>\n",
       "</div>"
      ],
      "text/plain": [
       "            am   pm   target  predict\n",
       "date                                 \n",
       "2020-04-17  21    2  working  weekend\n",
       "2020-04-18   1   68  weekend  working\n",
       "2020-04-19  18   15  weekend  working\n",
       "2020-04-20   2   23  working  working\n",
       "2020-04-21   0   25  working  working\n",
       "2020-04-22   0   28  working  working\n",
       "2020-04-23  10   33  working  working\n",
       "2020-04-24   2   14  working  working\n",
       "2020-04-25  30   74  weekend  working\n",
       "2020-04-26  28  233  weekend  working"
      ]
     },
     "execution_count": 6,
     "metadata": {},
     "output_type": "execute_result"
    }
   ],
   "source": [
    "#выделяем признаки х и у(target)\n",
    "x=df[['am', 'pm']]\n",
    "y=df['target']\n",
    "log_regr=LogisticRegression(random_state=21, fit_intercept=False)\n",
    "lr=log_regr.fit(x.values, y)\n",
    "predict=lr.predict(x)\n",
    "df['predict']=predict\n",
    "df.head(10)\n"
   ]
  },
  {
   "cell_type": "code",
   "execution_count": 7,
   "metadata": {},
   "outputs": [],
   "source": [
    "\n",
    "df.to_csv('../data/am_pm.csv')"
   ]
  },
  {
   "cell_type": "code",
   "execution_count": 8,
   "metadata": {},
   "outputs": [
    {
     "data": {
      "image/png": "[encoded data removed]",
      "text/plain": [
       "<Figure size 1400x600 with 2 Axes>"
      ]
     },
     "metadata": {},
     "output_type": "display_data"
    }
   ],
   "source": [
    "colors=df['target'].map({'working':'purple', 'weekend':'c'})\n",
    "plt.figure(figsize=(14,6))\n",
    "plt.subplot(1,2,1)\n",
    "plt.scatter(x=df['am'], y=df['pm'], c=colors)\n",
    "plt.title('target')\n",
    "plt.xlabel('am')\n",
    "plt.ylabel('pm')\n",
    "plt.grid()\n",
    "\n",
    "\n",
    "colors_t=df['predict'].map({'working':'purple', 'weekend':'c'})\n",
    "plt.subplot(1,2,2)\n",
    "plt.scatter(x=df['am'], y=df['pm'], c=colors_t)\n",
    "plt.title('predict')\n",
    "plt.xlabel('am')\n",
    "plt.ylabel('pm')\n",
    "plt.grid()"
   ]
  },
  {
   "cell_type": "markdown",
   "metadata": {},
   "source": [
    "not, it is not good"
   ]
  },
  {
   "cell_type": "markdown",
   "metadata": {},
   "source": [
    "## 4. Evaluation"
   ]
  },
  {
   "cell_type": "markdown",
   "metadata": {},
   "source": [
    "- Calculate `accuracy` for your predictions.\n",
    "\n",
    "\n",
    "- Calculate `accuracy` for the naive case when each of your prediction is the value of your most popular class of the day.\n",
    "\n",
    "\n",
    "- Comparing the accuracies do you think that the classifier made good predictions? Put your answer in the markdown cell in the end of the secion: \"yes, it is good\"; \"no, it is not good\"."
   ]
  },
  {
   "cell_type": "code",
   "execution_count": 9,
   "metadata": {},
   "outputs": [
    {
     "data": {
      "text/plain": [
       "0.6285714285714286"
      ]
     },
     "execution_count": 9,
     "metadata": {},
     "output_type": "execute_result"
    }
   ],
   "source": [
    "acc=accuracy_score(df['target'], df['predict'])\n",
    "acc"
   ]
  },
  {
   "cell_type": "code",
   "execution_count": null,
   "metadata": {},
   "outputs": [
    {
     "data": {
      "text/plain": [
       "0.7142857142857143"
      ]
     },
     "execution_count": 10,
     "metadata": {},
     "output_type": "execute_result"
    }
   ],
   "source": [
    "acc_naive=accuracy_score(df['target'],  [df['target'].mode()]*len(y))\n",
    "acc_naive"
   ]
  },
  {
   "cell_type": "markdown",
   "metadata": {},
   "source": [
    "no, it is not good"
   ]
  },
  {
   "cell_type": "markdown",
   "metadata": {},
   "source": []
  }
 ],
 "metadata": {
  "kernelspec": {
   "display_name": "Python 3",
   "language": "python",
   "name": "python3"
  },
  "language_info": {
   "codemirror_mode": {
    "name": "ipython",
    "version": 3
   },
   "file_extension": ".py",
   "mimetype": "text/x-python",
   "name": "python",
   "nbconvert_exporter": "python",
   "pygments_lexer": "ipython3",
   "version": "3.10.12"
  }
 },
 "nbformat": 4,
 "nbformat_minor": 4
}
