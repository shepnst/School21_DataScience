{
 "cells": [
  {
   "cell_type": "code",
   "execution_count": 1,
   "metadata": {},
   "outputs": [],
   "source": [
    "import sqlite3\n",
    "import pandas as pd"
   ]
  },
  {
   "cell_type": "code",
   "execution_count": 2,
   "metadata": {},
   "outputs": [],
   "source": [
    "connect=sqlite3.connect('../data/checking-logs.sqlite', check_same_thread=False)"
   ]
  },
  {
   "cell_type": "code",
   "execution_count": 3,
   "metadata": {},
   "outputs": [
    {
     "data": {
      "text/html": [
       "<div>\n",
       "<style scoped>\n",
       "    .dataframe tbody tr th:only-of-type {\n",
       "        vertical-align: middle;\n",
       "    }\n",
       "\n",
       "    .dataframe tbody tr th {\n",
       "        vertical-align: top;\n",
       "    }\n",
       "\n",
       "    .dataframe thead th {\n",
       "        text-align: right;\n",
       "    }\n",
       "</style>\n",
       "<table border=\"1\" class=\"dataframe\">\n",
       "  <thead>\n",
       "    <tr style=\"text-align: right;\">\n",
       "      <th></th>\n",
       "      <th>uid</th>\n",
       "      <th>labname</th>\n",
       "      <th>first_commit_ts</th>\n",
       "      <th>first_view_ts</th>\n",
       "    </tr>\n",
       "  </thead>\n",
       "  <tbody>\n",
       "    <tr>\n",
       "      <th>0</th>\n",
       "      <td>user_4</td>\n",
       "      <td>project1</td>\n",
       "      <td>2020-04-17 05:19:02.744528</td>\n",
       "      <td>NaT</td>\n",
       "    </tr>\n",
       "    <tr>\n",
       "      <th>1</th>\n",
       "      <td>user_4</td>\n",
       "      <td>laba04</td>\n",
       "      <td>2020-04-17 11:33:17.366400</td>\n",
       "      <td>NaT</td>\n",
       "    </tr>\n",
       "    <tr>\n",
       "      <th>2</th>\n",
       "      <td>user_4</td>\n",
       "      <td>laba04s</td>\n",
       "      <td>2020-04-17 11:48:41.992466</td>\n",
       "      <td>NaT</td>\n",
       "    </tr>\n",
       "    <tr>\n",
       "      <th>3</th>\n",
       "      <td>user_17</td>\n",
       "      <td>project1</td>\n",
       "      <td>2020-04-18 07:56:45.408648</td>\n",
       "      <td>2020-04-18 10:56:55.833899</td>\n",
       "    </tr>\n",
       "    <tr>\n",
       "      <th>4</th>\n",
       "      <td>user_30</td>\n",
       "      <td>laba04</td>\n",
       "      <td>2020-04-18 13:36:53.971502</td>\n",
       "      <td>2020-04-17 22:46:26.785035</td>\n",
       "    </tr>\n",
       "    <tr>\n",
       "      <th>...</th>\n",
       "      <td>...</td>\n",
       "      <td>...</td>\n",
       "      <td>...</td>\n",
       "      <td>...</td>\n",
       "    </tr>\n",
       "    <tr>\n",
       "      <th>135</th>\n",
       "      <td>user_23</td>\n",
       "      <td>laba06</td>\n",
       "      <td>2020-05-21 08:34:10.517205</td>\n",
       "      <td>NaT</td>\n",
       "    </tr>\n",
       "    <tr>\n",
       "      <th>136</th>\n",
       "      <td>user_19</td>\n",
       "      <td>laba06s</td>\n",
       "      <td>2020-05-21 13:27:06.705881</td>\n",
       "      <td>2020-04-21 20:30:38.034966</td>\n",
       "    </tr>\n",
       "    <tr>\n",
       "      <th>137</th>\n",
       "      <td>user_23</td>\n",
       "      <td>laba06s</td>\n",
       "      <td>2020-05-21 14:29:15.709568</td>\n",
       "      <td>NaT</td>\n",
       "    </tr>\n",
       "    <tr>\n",
       "      <th>138</th>\n",
       "      <td>user_17</td>\n",
       "      <td>laba06</td>\n",
       "      <td>2020-05-21 15:21:31.567615</td>\n",
       "      <td>2020-04-18 10:56:55.833899</td>\n",
       "    </tr>\n",
       "    <tr>\n",
       "      <th>139</th>\n",
       "      <td>user_17</td>\n",
       "      <td>laba06s</td>\n",
       "      <td>2020-05-21 17:39:17.783615</td>\n",
       "      <td>2020-04-18 10:56:55.833899</td>\n",
       "    </tr>\n",
       "  </tbody>\n",
       "</table>\n",
       "<p>140 rows × 4 columns</p>\n",
       "</div>"
      ],
      "text/plain": [
       "         uid   labname            first_commit_ts              first_view_ts\n",
       "0     user_4  project1 2020-04-17 05:19:02.744528                        NaT\n",
       "1     user_4    laba04 2020-04-17 11:33:17.366400                        NaT\n",
       "2     user_4   laba04s 2020-04-17 11:48:41.992466                        NaT\n",
       "3    user_17  project1 2020-04-18 07:56:45.408648 2020-04-18 10:56:55.833899\n",
       "4    user_30    laba04 2020-04-18 13:36:53.971502 2020-04-17 22:46:26.785035\n",
       "..       ...       ...                        ...                        ...\n",
       "135  user_23    laba06 2020-05-21 08:34:10.517205                        NaT\n",
       "136  user_19   laba06s 2020-05-21 13:27:06.705881 2020-04-21 20:30:38.034966\n",
       "137  user_23   laba06s 2020-05-21 14:29:15.709568                        NaT\n",
       "138  user_17    laba06 2020-05-21 15:21:31.567615 2020-04-18 10:56:55.833899\n",
       "139  user_17   laba06s 2020-05-21 17:39:17.783615 2020-04-18 10:56:55.833899\n",
       "\n",
       "[140 rows x 4 columns]"
      ]
     },
     "execution_count": 3,
     "metadata": {},
     "output_type": "execute_result"
    }
   ],
   "source": [
    "query=\"\"\"select checker.uid, checker.labname, checker.timestamp as first_commit_ts, pageviews.datetime as first_view_ts\n",
    "from checker left join pageviews on checker.uid=pageviews.uid\n",
    "where status='ready' and numTrials = 1 and labname in ('laba04', 'laba04s', 'laba05', 'laba06', 'laba06s', 'project1')\n",
    "and checker.uid like 'user_%' and \n",
    "(pageviews.datetime=(select min(pageviews.datetime) from pageviews where uid=checker.uid) or pageviews.datetime is null)\"\"\"\n",
    "\n",
    "datamart=pd.io.sql.read_sql(query, connect, parse_dates=['first_commit_ts', 'first_view_ts'])\n",
    "datamart"
   ]
  },
  {
   "cell_type": "code",
   "execution_count": 4,
   "metadata": {},
   "outputs": [],
   "source": [
    "test=datamart[datamart['first_view_ts'].notnull()]\n",
    "control=datamart[datamart['first_view_ts'].isnull()]\n",
    "control=control.fillna(test['first_view_ts'].mean())"
   ]
  },
  {
   "cell_type": "code",
   "execution_count": null,
   "metadata": {},
   "outputs": [],
   "source": [
    "test.to_sql('test', connect)\n",
    "control.to_sql('control', connect)"
   ]
  },
  {
   "cell_type": "code",
   "execution_count": 6,
   "metadata": {},
   "outputs": [],
   "source": [
    "connect.close()"
   ]
  },
  {
   "cell_type": "code",
   "execution_count": null,
   "metadata": {},
   "outputs": [],
   "source": []
  }
 ],
 "metadata": {
  "kernelspec": {
   "display_name": "Python 3",
   "language": "python",
   "name": "python3"
  },
  "language_info": {
   "codemirror_mode": {
    "name": "ipython",
    "version": 3
   },
   "file_extension": ".py",
   "mimetype": "text/x-python",
   "name": "python",
   "nbconvert_exporter": "python",
   "pygments_lexer": "ipython3",
   "version": "3.10.12"
  }
 },
 "nbformat": 4,
 "nbformat_minor": 2
}
