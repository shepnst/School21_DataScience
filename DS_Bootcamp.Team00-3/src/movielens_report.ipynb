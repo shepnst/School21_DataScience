{
 "cells": [
  {
   "cell_type": "code",
   "execution_count": 1,
   "metadata": {},
   "outputs": [
    {
     "name": "stdout",
     "output_type": "stream",
     "text": [
      "213 μs ± 3.36 μs per loop (mean ± std. dev. of 7 runs, 1,000 loops each)\n",
      "Распределение по годам: {'1995': 224, '1994': 184, '1996': 181, '1993': 101, '1992': 23, '1990': 15, '1991': 15, '1989': 14, '1986': 9, '1982': 8, '1940': 8, '1957': 8, '1987': 8, '1980': 8, '1981': 7, '1988': 7, '1979': 7, '1955': 6, '1959': 6, '1968': 6, '1997': 6, '1939': 6, '1985': 6, '1967': 5, '1965': 5, '1951': 5, '1958': 5, '1944': 5, '1941': 5, '1975': 5, '1971': 5, '1984': 5, '1964': 4, '1973': 4, '1954': 4, '1934': 4, '1960': 4, '1963': 4, '1950': 4, '1974': 4, '1983': 4, '1977': 3, '1937': 3, '1972': 3, '1952': 3, '1961': 3, '1953': 3, '1946': 3, '1938': 3, '1962': 3, '1976': 2, '1969': 2, '1970': 2, '1942': 2, '1945': 2, '1947': 2, '1935': 2, '1936': 2, '1956': 2, '1949': 2, '1978': 2, '1943': 1, '1932': 1, '1966': 1, '1948': 1, '1933': 1, '1931': 1}\n",
      "\n",
      "\n",
      "The slowest run took 5.35 times longer than the fastest. This could mean that an intermediate result is being cached.\n",
      "669 μs ± 556 μs per loop (mean ± std. dev. of 7 runs, 1,000 loops each)\n",
      "Распределение по жанрам: {'Drama': 506, 'Comedy': 365, 'Romance': 208, 'Thriller': 179, 'Action': 158, 'Adventure': 126, 'Crime': 122, 'Children': 100, 'Fantasy': 69, 'Sci-Fi': 68, 'Mystery': 58, 'Musical': 53, 'Horror': 51, 'War': 48, 'Animation': 37, 'Documentary': 25, 'Western': 23, 'Film-Noir': 18, 'IMAX': 3}\n",
      "\n",
      "\n",
      "1.58 ms ± 585 μs per loop (mean ± std. dev. of 7 runs, 100 loops each)\n",
      "Топ-3 фильма по жанрам: OrderedDict({'Strange Days (1995)': 6, 'Lion King, The (1994)': 6, 'Getaway, The (1994)': 6})\n"
     ]
    }
   ],
   "source": [
    "import movielens_analysis as ml\n",
    "movies = ml.Movies(\"../datasets/movies.csv\")\n",
    "\n",
    "release_years = movies.dist_by_release()\n",
    "%timeit movies.dist_by_release()\n",
    "print(\"Распределение по годам:\", dict(release_years))\n",
    "\n",
    "print(\"\\n\")\n",
    "\n",
    "genres_dist = movies.dist_by_genres()\n",
    "%timeit movies.dist_by_genres()\n",
    "print(\"Распределение по жанрам:\", dict(genres_dist))\n",
    "\n",
    "print(\"\\n\")\n",
    "\n",
    "top_genres = movies.most_genres(3)\n",
    "%timeit movies.most_genres(3)\n",
    "print(\"Топ-3 фильма по жанрам:\", top_genres)"
   ]
  },
  {
   "cell_type": "code",
   "execution_count": 2,
   "metadata": {},
   "outputs": [
    {
     "name": "stdout",
     "output_type": "stream",
     "text": [
      "1.44 ms ± 188 μs per loop (mean ± std. dev. of 7 runs, 1,000 loops each)\n",
      "Распределение по годам: {1996: 358, 1999: 82, 2000: 296, 2001: 70, 2005: 120, 2006: 4, 2007: 1, 2011: 39, 2015: 29}\n",
      "\n",
      "\n",
      "997 μs ± 164 μs per loop (mean ± std. dev. of 7 runs, 1,000 loops each)\n",
      "Топ-10 фильмов по количеству оценок: {50: 4, 296: 4, 457: 4, 527: 4, 592: 4, 593: 4, 608: 4, 588: 4, 595: 4, 1: 3}\n",
      "\n",
      "\n",
      "376 μs ± 51.4 μs per loop (mean ± std. dev. of 7 runs, 1,000 loops each)\n",
      "Распределение пользователей по количеству оценок: {1: 232, 2: 29, 3: 39, 4: 216, 5: 44, 6: 314, 7: 125}\n",
      "\n",
      "\n",
      "2.07 ms ± 343 μs per loop (mean ± std. dev. of 7 runs, 1,000 loops each)\n",
      "Топ-5 пользователей с наибольшей дисперсией оценок: {3: 4.37, 4: 1.73, 7: 1.66, 5: 0.98, 6: 0.72}\n"
     ]
    }
   ],
   "source": [
    "ratings = ml.Ratings(\"../datasets/ratings.csv\")\n",
    "movies = ratings.Movies(ratings.ratings)\n",
    "users = ratings.Users(ratings.ratings)\n",
    "\n",
    "release_years = movies.dist_by_year()\n",
    "%timeit movies.dist_by_year()\n",
    "print(\"Распределение по годам:\", release_years)\n",
    "\n",
    "print(\"\\n\")\n",
    "\n",
    "top_movies_by_ratings = movies.top_by_num_of_ratings(10)\n",
    "%timeit movies.top_by_num_of_ratings(10)\n",
    "print(\"Топ-10 фильмов по количеству оценок:\", top_movies_by_ratings)\n",
    "\n",
    "print(\"\\n\")\n",
    "\n",
    "users_ratings_dist = users.dist_by_num_of_ratings()\n",
    "%timeit users.dist_by_num_of_ratings()\n",
    "print(\"Распределение пользователей по количеству оценок:\", users_ratings_dist)\n",
    "\n",
    "print(\"\\n\")\n",
    "\n",
    "top_users_by_variance = users.top_by_variance(5)\n",
    "%timeit users.top_by_variance(5)\n",
    "print(\"Топ-5 пользователей с наибольшей дисперсией оценок:\", top_users_by_variance)"
   ]
  },
  {
   "cell_type": "code",
   "execution_count": 3,
   "metadata": {},
   "outputs": [
    {
     "name": "stdout",
     "output_type": "stream",
     "text": [
      "9.36 ms ± 1.46 ms per loop (mean ± std. dev. of 7 runs, 100 loops each)\n",
      "Топ-5 тегов с наибольшим количеством слов: {'Something for everyone in this one... saw it without and plan on seeing it with kids!': 16, 'the catholic church is the most corrupt organization in history': 10, 'Everything you want is here': 5, 'Oscar (Best Music - Original Score)': 5, 'based on a true story': 5}\n",
      "\n",
      "\n",
      "59.9 ms ± 16.1 ms per loop (mean ± std. dev. of 7 runs, 10 loops each)\n",
      "Топ-5 самых длинных тегов: ['Something for everyone in this one... saw it without and plan on seeing it with kids!', 'the catholic church is the most corrupt organization in history', 'audience intelligence underestimated', 'Oscar (Best Music - Original Score)', 'assassin-in-training (scene)']\n",
      "\n",
      "\n",
      "5.5 ms ± 1.39 ms per loop (mean ± std. dev. of 7 runs, 100 loops each)\n",
      "Топ-5 самых популярных тегов: {'funny': 15, 'sci-fi': 14, 'twist ending': 12, 'dark comedy': 12, 'atmospheric': 10}\n",
      "\n",
      "\n",
      "5.1 ms ± 1.29 ms per loop (mean ± std. dev. of 7 runs, 100 loops each)\n",
      "Теги, содержащие слово 'comedy': ['black comedy', 'british comedy', 'comedy', 'dark comedy', 'romantic comedy']\n"
     ]
    }
   ],
   "source": [
    "tags = ml.Tags(\"../datasets/tags.csv\")\n",
    "\n",
    "most_words_tags = tags.most_words(5)\n",
    "%timeit tags.most_words(5)\n",
    "print(\"Топ-5 тегов с наибольшим количеством слов:\", most_words_tags)\n",
    "\n",
    "print(\"\\n\")\n",
    "\n",
    "longest_tags = tags.longest(5)\n",
    "%timeit tags.longest(5)\n",
    "print(\"Топ-5 самых длинных тегов:\", longest_tags)\n",
    "\n",
    "print(\"\\n\")\n",
    "\n",
    "most_popular_tags = tags.most_popular(5)\n",
    "%timeit tags.most_popular(5)\n",
    "print(\"Топ-5 самых популярных тегов:\", most_popular_tags)\n",
    "\n",
    "print(\"\\n\")\n",
    "\n",
    "tags_with_comedy = tags.tags_with_word(\"comedy\")\n",
    "%timeit tags.tags_with_word(\"comedy\")\n",
    "print(\"Теги, содержащие слово 'comedy':\", tags_with_comedy)"
   ]
  },
  {
   "cell_type": "code",
   "execution_count": 4,
   "metadata": {},
   "outputs": [
    {
     "name": "stdout",
     "output_type": "stream",
     "text": [
      "41.8 s ± 2.78 s per loop (mean ± std. dev. of 7 runs, 1 loop each)\n",
      "Топ-5 режиссеров: {'John Lasseter': 1, 'Joe Johnston': 1, 'Howard Deutch': 1, 'Forest Whitaker': 1, 'Charles Shyer': 1}\n",
      "\n",
      "\n",
      "19.5 s ± 847 ms per loop (mean ± std. dev. of 7 runs, 1 loop each)\n",
      "Топ-5 самых дорогих фильмов: {'Джуманджи': 65000000, 'Американский президент': 62000000, 'Схватка': 60000000, 'Золотой глаз': 60000000, 'Сабрина': 58000000}\n",
      "\n",
      "\n",
      "20.5 s ± 1.62 s per loop (mean ± std. dev. of 7 runs, 1 loop each)\n",
      "Топ-5 самых прибыльных фильмов: {'История игрушек': 364436586, 'Золотой глаз': 292194034, 'Джуманджи': 197821940, 'Схватка': 127436818, 'В ожидании выдоха': 65452156}\n",
      "\n",
      "\n",
      "19 s ± 1.08 s per loop (mean ± std. dev. of 7 runs, 1 loop each)\n",
      "Топ-5 самых длинных фильмов: {'Казино': 178, 'Схватка': 170, 'Золотой глаз': 130, 'Сабрина': 127, 'В ожидании выдоха': 124}\n",
      "\n",
      "\n",
      "21.2 s ± 745 ms per loop (mean ± std. dev. of 7 runs, 1 loop each)\n",
      "Топ-5 фильмов по стоимости минуты: {'Джуманджи': 625000.0, 'Американский президент': 543859.65, 'Золотой глаз': 461538.46, 'Сабрина': 456692.91, 'История игрушек': 370370.37}\n"
     ]
    }
   ],
   "source": [
    "import links\n",
    "links_data = links.Links(\"../datasets/links.csv\")\n",
    "\n",
    "top_directors = links_data.top_directors(5)\n",
    "%timeit links_data.top_directors(5)\n",
    "print(\"Топ-5 режиссеров:\", top_directors)\n",
    "\n",
    "print(\"\\n\")\n",
    "\n",
    "most_expensive = links_data.most_expensive(5)\n",
    "%timeit links_data.most_expensive(5)\n",
    "print(\"Топ-5 самых дорогих фильмов:\", most_expensive)\n",
    "\n",
    "print(\"\\n\")\n",
    "\n",
    "most_profitable = links_data.most_profitable(5)\n",
    "%timeit links_data.most_profitable(5)\n",
    "print(\"Топ-5 самых прибыльных фильмов:\", most_profitable)\n",
    "\n",
    "print(\"\\n\")\n",
    "\n",
    "longest_movies = links_data.longest(5)\n",
    "%timeit links_data.longest(5)\n",
    "print(\"Топ-5 самых длинных фильмов:\", longest_movies)\n",
    "\n",
    "print(\"\\n\")\n",
    "\n",
    "top_cost_per_minute = links_data.top_cost_per_minute(5)\n",
    "%timeit links_data.top_cost_per_minute(5)\n",
    "print(\"Топ-5 фильмов по стоимости минуты:\", top_cost_per_minute)"
   ]
  }
 ],
 "metadata": {
  "kernelspec": {
   "display_name": "Python [conda env:base] *",
   "language": "python",
   "name": "conda-base-py"
  },
  "language_info": {
   "codemirror_mode": {
    "name": "ipython",
    "version": 3
   },
   "file_extension": ".py",
   "mimetype": "text/x-python",
   "name": "python",
   "nbconvert_exporter": "python",
   "pygments_lexer": "ipython3",
   "version": "3.12.7"
  }
 },
 "nbformat": 4,
 "nbformat_minor": 4
}
