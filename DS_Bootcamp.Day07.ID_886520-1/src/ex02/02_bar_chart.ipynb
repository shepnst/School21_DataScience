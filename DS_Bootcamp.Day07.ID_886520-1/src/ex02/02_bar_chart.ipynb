{
 "cells": [
  {
   "cell_type": "code",
   "execution_count": 1,
   "id": "b5735d4f",
   "metadata": {},
   "outputs": [],
   "source": [
    "import pandas as pd\n",
    "import sqlite3"
   ]
  },
  {
   "cell_type": "code",
   "execution_count": 2,
   "id": "5f83ffa5",
   "metadata": {},
   "outputs": [],
   "source": [
    "connect=sqlite3.connect('../data/checking-logs.sqlite', check_same_thread=False)"
   ]
  },
  {
   "cell_type": "code",
   "execution_count": 3,
   "id": "8864a3d0",
   "metadata": {},
   "outputs": [
    {
     "data": {
      "text/html": [
       "<div>\n",
       "<style scoped>\n",
       "    .dataframe tbody tr th:only-of-type {\n",
       "        vertical-align: middle;\n",
       "    }\n",
       "\n",
       "    .dataframe tbody tr th {\n",
       "        vertical-align: top;\n",
       "    }\n",
       "\n",
       "    .dataframe thead th {\n",
       "        text-align: right;\n",
       "    }\n",
       "</style>\n",
       "<table border=\"1\" class=\"dataframe\">\n",
       "  <thead>\n",
       "    <tr style=\"text-align: right;\">\n",
       "      <th></th>\n",
       "      <th>index</th>\n",
       "      <th>status</th>\n",
       "      <th>success</th>\n",
       "      <th>timestamp</th>\n",
       "      <th>numTrials</th>\n",
       "      <th>labname</th>\n",
       "      <th>uid</th>\n",
       "    </tr>\n",
       "  </thead>\n",
       "  <tbody>\n",
       "    <tr>\n",
       "      <th>0</th>\n",
       "      <td>7</td>\n",
       "      <td>ready</td>\n",
       "      <td>0</td>\n",
       "      <td>2020-04-17 05:19:02.744528</td>\n",
       "      <td>1</td>\n",
       "      <td>project1</td>\n",
       "      <td>user_4</td>\n",
       "    </tr>\n",
       "    <tr>\n",
       "      <th>1</th>\n",
       "      <td>8</td>\n",
       "      <td>checking</td>\n",
       "      <td>0</td>\n",
       "      <td>2020-04-17 05:22:35.249331</td>\n",
       "      <td>2</td>\n",
       "      <td>project1</td>\n",
       "      <td>user_4</td>\n",
       "    </tr>\n",
       "    <tr>\n",
       "      <th>2</th>\n",
       "      <td>9</td>\n",
       "      <td>ready</td>\n",
       "      <td>1</td>\n",
       "      <td>2020-04-17 05:22:45.549397</td>\n",
       "      <td>2</td>\n",
       "      <td>project1</td>\n",
       "      <td>user_4</td>\n",
       "    </tr>\n",
       "    <tr>\n",
       "      <th>3</th>\n",
       "      <td>10</td>\n",
       "      <td>checking</td>\n",
       "      <td>1</td>\n",
       "      <td>2020-04-17 05:34:14.691200</td>\n",
       "      <td>3</td>\n",
       "      <td>project1</td>\n",
       "      <td>user_4</td>\n",
       "    </tr>\n",
       "    <tr>\n",
       "      <th>4</th>\n",
       "      <td>11</td>\n",
       "      <td>ready</td>\n",
       "      <td>1</td>\n",
       "      <td>2020-04-17 05:34:24.422370</td>\n",
       "      <td>3</td>\n",
       "      <td>project1</td>\n",
       "      <td>user_4</td>\n",
       "    </tr>\n",
       "    <tr>\n",
       "      <th>...</th>\n",
       "      <td>...</td>\n",
       "      <td>...</td>\n",
       "      <td>...</td>\n",
       "      <td>...</td>\n",
       "      <td>...</td>\n",
       "      <td>...</td>\n",
       "      <td>...</td>\n",
       "    </tr>\n",
       "    <tr>\n",
       "      <th>3202</th>\n",
       "      <td>3397</td>\n",
       "      <td>ready</td>\n",
       "      <td>0</td>\n",
       "      <td>2020-05-21 20:19:06.872761</td>\n",
       "      <td>7</td>\n",
       "      <td>laba06s</td>\n",
       "      <td>user_1</td>\n",
       "    </tr>\n",
       "    <tr>\n",
       "      <th>3203</th>\n",
       "      <td>3398</td>\n",
       "      <td>checking</td>\n",
       "      <td>0</td>\n",
       "      <td>2020-05-21 20:22:41.785725</td>\n",
       "      <td>8</td>\n",
       "      <td>laba06s</td>\n",
       "      <td>user_1</td>\n",
       "    </tr>\n",
       "    <tr>\n",
       "      <th>3204</th>\n",
       "      <td>3399</td>\n",
       "      <td>ready</td>\n",
       "      <td>0</td>\n",
       "      <td>2020-05-21 20:22:41.877806</td>\n",
       "      <td>8</td>\n",
       "      <td>laba06s</td>\n",
       "      <td>user_1</td>\n",
       "    </tr>\n",
       "    <tr>\n",
       "      <th>3205</th>\n",
       "      <td>3400</td>\n",
       "      <td>checking</td>\n",
       "      <td>0</td>\n",
       "      <td>2020-05-21 20:37:00.129678</td>\n",
       "      <td>9</td>\n",
       "      <td>laba06s</td>\n",
       "      <td>user_1</td>\n",
       "    </tr>\n",
       "    <tr>\n",
       "      <th>3206</th>\n",
       "      <td>3401</td>\n",
       "      <td>ready</td>\n",
       "      <td>0</td>\n",
       "      <td>2020-05-21 20:37:00.290491</td>\n",
       "      <td>9</td>\n",
       "      <td>laba06s</td>\n",
       "      <td>user_1</td>\n",
       "    </tr>\n",
       "  </tbody>\n",
       "</table>\n",
       "<p>3207 rows × 7 columns</p>\n",
       "</div>"
      ],
      "text/plain": [
       "      index    status  success                  timestamp  numTrials  \\\n",
       "0         7     ready        0 2020-04-17 05:19:02.744528          1   \n",
       "1         8  checking        0 2020-04-17 05:22:35.249331          2   \n",
       "2         9     ready        1 2020-04-17 05:22:45.549397          2   \n",
       "3        10  checking        1 2020-04-17 05:34:14.691200          3   \n",
       "4        11     ready        1 2020-04-17 05:34:24.422370          3   \n",
       "...     ...       ...      ...                        ...        ...   \n",
       "3202   3397     ready        0 2020-05-21 20:19:06.872761          7   \n",
       "3203   3398  checking        0 2020-05-21 20:22:41.785725          8   \n",
       "3204   3399     ready        0 2020-05-21 20:22:41.877806          8   \n",
       "3205   3400  checking        0 2020-05-21 20:37:00.129678          9   \n",
       "3206   3401     ready        0 2020-05-21 20:37:00.290491          9   \n",
       "\n",
       "       labname     uid  \n",
       "0     project1  user_4  \n",
       "1     project1  user_4  \n",
       "2     project1  user_4  \n",
       "3     project1  user_4  \n",
       "4     project1  user_4  \n",
       "...        ...     ...  \n",
       "3202   laba06s  user_1  \n",
       "3203   laba06s  user_1  \n",
       "3204   laba06s  user_1  \n",
       "3205   laba06s  user_1  \n",
       "3206   laba06s  user_1  \n",
       "\n",
       "[3207 rows x 7 columns]"
      ]
     },
     "execution_count": 3,
     "metadata": {},
     "output_type": "execute_result"
    }
   ],
   "source": [
    "df=pd.io.sql.read_sql('select * from checker where uid not like \"admin_%\" ', connect, parse_dates=['timestamp'])\n",
    "df"
   ]
  },
  {
   "cell_type": "code",
   "execution_count": 4,
   "id": "bee4f8c9",
   "metadata": {},
   "outputs": [
    {
     "data": {
      "text/html": [
       "<div>\n",
       "<style scoped>\n",
       "    .dataframe tbody tr th:only-of-type {\n",
       "        vertical-align: middle;\n",
       "    }\n",
       "\n",
       "    .dataframe tbody tr th {\n",
       "        vertical-align: top;\n",
       "    }\n",
       "\n",
       "    .dataframe thead th {\n",
       "        text-align: right;\n",
       "    }\n",
       "</style>\n",
       "<table border=\"1\" class=\"dataframe\">\n",
       "  <thead>\n",
       "    <tr style=\"text-align: right;\">\n",
       "      <th></th>\n",
       "      <th>index</th>\n",
       "      <th>status</th>\n",
       "      <th>success</th>\n",
       "      <th>timestamp</th>\n",
       "      <th>numTrials</th>\n",
       "      <th>labname</th>\n",
       "      <th>uid</th>\n",
       "      <th>date</th>\n",
       "      <th>hour</th>\n",
       "      <th>day period</th>\n",
       "    </tr>\n",
       "  </thead>\n",
       "  <tbody>\n",
       "    <tr>\n",
       "      <th>0</th>\n",
       "      <td>7</td>\n",
       "      <td>ready</td>\n",
       "      <td>0</td>\n",
       "      <td>2020-04-17 05:19:02.744528</td>\n",
       "      <td>1</td>\n",
       "      <td>project1</td>\n",
       "      <td>user_4</td>\n",
       "      <td>2020-04-17</td>\n",
       "      <td>5</td>\n",
       "      <td>morning</td>\n",
       "    </tr>\n",
       "    <tr>\n",
       "      <th>1</th>\n",
       "      <td>8</td>\n",
       "      <td>checking</td>\n",
       "      <td>0</td>\n",
       "      <td>2020-04-17 05:22:35.249331</td>\n",
       "      <td>2</td>\n",
       "      <td>project1</td>\n",
       "      <td>user_4</td>\n",
       "      <td>2020-04-17</td>\n",
       "      <td>5</td>\n",
       "      <td>morning</td>\n",
       "    </tr>\n",
       "    <tr>\n",
       "      <th>2</th>\n",
       "      <td>9</td>\n",
       "      <td>ready</td>\n",
       "      <td>1</td>\n",
       "      <td>2020-04-17 05:22:45.549397</td>\n",
       "      <td>2</td>\n",
       "      <td>project1</td>\n",
       "      <td>user_4</td>\n",
       "      <td>2020-04-17</td>\n",
       "      <td>5</td>\n",
       "      <td>morning</td>\n",
       "    </tr>\n",
       "    <tr>\n",
       "      <th>3</th>\n",
       "      <td>10</td>\n",
       "      <td>checking</td>\n",
       "      <td>1</td>\n",
       "      <td>2020-04-17 05:34:14.691200</td>\n",
       "      <td>3</td>\n",
       "      <td>project1</td>\n",
       "      <td>user_4</td>\n",
       "      <td>2020-04-17</td>\n",
       "      <td>5</td>\n",
       "      <td>morning</td>\n",
       "    </tr>\n",
       "    <tr>\n",
       "      <th>4</th>\n",
       "      <td>11</td>\n",
       "      <td>ready</td>\n",
       "      <td>1</td>\n",
       "      <td>2020-04-17 05:34:24.422370</td>\n",
       "      <td>3</td>\n",
       "      <td>project1</td>\n",
       "      <td>user_4</td>\n",
       "      <td>2020-04-17</td>\n",
       "      <td>5</td>\n",
       "      <td>morning</td>\n",
       "    </tr>\n",
       "  </tbody>\n",
       "</table>\n",
       "</div>"
      ],
      "text/plain": [
       "   index    status  success                  timestamp  numTrials   labname  \\\n",
       "0      7     ready        0 2020-04-17 05:19:02.744528          1  project1   \n",
       "1      8  checking        0 2020-04-17 05:22:35.249331          2  project1   \n",
       "2      9     ready        1 2020-04-17 05:22:45.549397          2  project1   \n",
       "3     10  checking        1 2020-04-17 05:34:14.691200          3  project1   \n",
       "4     11     ready        1 2020-04-17 05:34:24.422370          3  project1   \n",
       "\n",
       "      uid        date  hour day period  \n",
       "0  user_4  2020-04-17     5    morning  \n",
       "1  user_4  2020-04-17     5    morning  \n",
       "2  user_4  2020-04-17     5    morning  \n",
       "3  user_4  2020-04-17     5    morning  \n",
       "4  user_4  2020-04-17     5    morning  "
      ]
     },
     "execution_count": 4,
     "metadata": {},
     "output_type": "execute_result"
    }
   ],
   "source": [
    "labels=['night','morning', 'afternoon','evening']\n",
    "bins=[-1, 4, 10, 17, 24]\n",
    "df['date']=df['timestamp'].dt.date\n",
    "df['hour']=df['timestamp'].dt.hour\n",
    "\n",
    "df['day period']=pd.cut(df['hour'], bins=bins, labels=labels)\n",
    "df.head()"
   ]
  },
  {
   "cell_type": "code",
   "execution_count": 5,
   "id": "45c7794e",
   "metadata": {},
   "outputs": [
    {
     "name": "stderr",
     "output_type": "stream",
     "text": [
      "/tmp/ipykernel_16165/2463407356.py:1: FutureWarning: The default of observed=False is deprecated and will be changed to True in a future version of pandas. Pass observed=False to retain current behavior or observed=True to adopt the future default and silence this warning.\n",
      "  periods=df.groupby('day period').date.value_counts().unstack(0)\n"
     ]
    },
    {
     "data": {
      "text/html": [
       "<div>\n",
       "<style scoped>\n",
       "    .dataframe tbody tr th:only-of-type {\n",
       "        vertical-align: middle;\n",
       "    }\n",
       "\n",
       "    .dataframe tbody tr th {\n",
       "        vertical-align: top;\n",
       "    }\n",
       "\n",
       "    .dataframe thead th {\n",
       "        text-align: right;\n",
       "    }\n",
       "</style>\n",
       "<table border=\"1\" class=\"dataframe\">\n",
       "  <thead>\n",
       "    <tr style=\"text-align: right;\">\n",
       "      <th>day period</th>\n",
       "      <th>night</th>\n",
       "      <th>morning</th>\n",
       "      <th>afternoon</th>\n",
       "      <th>evening</th>\n",
       "    </tr>\n",
       "    <tr>\n",
       "      <th>date</th>\n",
       "      <th></th>\n",
       "      <th></th>\n",
       "      <th></th>\n",
       "      <th></th>\n",
       "    </tr>\n",
       "  </thead>\n",
       "  <tbody>\n",
       "    <tr>\n",
       "      <th>2020-04-17</th>\n",
       "      <td>0</td>\n",
       "      <td>13</td>\n",
       "      <td>10</td>\n",
       "      <td>0</td>\n",
       "    </tr>\n",
       "    <tr>\n",
       "      <th>2020-04-18</th>\n",
       "      <td>0</td>\n",
       "      <td>1</td>\n",
       "      <td>40</td>\n",
       "      <td>28</td>\n",
       "    </tr>\n",
       "    <tr>\n",
       "      <th>2020-04-19</th>\n",
       "      <td>2</td>\n",
       "      <td>11</td>\n",
       "      <td>9</td>\n",
       "      <td>11</td>\n",
       "    </tr>\n",
       "    <tr>\n",
       "      <th>2020-04-20</th>\n",
       "      <td>0</td>\n",
       "      <td>0</td>\n",
       "      <td>15</td>\n",
       "      <td>10</td>\n",
       "    </tr>\n",
       "    <tr>\n",
       "      <th>2020-04-21</th>\n",
       "      <td>0</td>\n",
       "      <td>0</td>\n",
       "      <td>9</td>\n",
       "      <td>16</td>\n",
       "    </tr>\n",
       "  </tbody>\n",
       "</table>\n",
       "</div>"
      ],
      "text/plain": [
       "day period  night  morning  afternoon  evening\n",
       "date                                          \n",
       "2020-04-17      0       13         10        0\n",
       "2020-04-18      0        1         40       28\n",
       "2020-04-19      2       11          9       11\n",
       "2020-04-20      0        0         15       10\n",
       "2020-04-21      0        0          9       16"
      ]
     },
     "execution_count": 5,
     "metadata": {},
     "output_type": "execute_result"
    }
   ],
   "source": [
    "periods=df.groupby('day period').date.value_counts().unstack(0)\n",
    "periods.head()\n"
   ]
  },
  {
   "cell_type": "code",
   "execution_count": 6,
   "id": "40162711",
   "metadata": {},
   "outputs": [
    {
     "data": {
      "image/png": "[encoded data removed]",
      "text/plain": [
       "<Figure size 1500x800 with 1 Axes>"
      ]
     },
     "metadata": {},
     "output_type": "display_data"
    }
   ],
   "source": [
    "view=periods.plot(kind='bar', color=['r','c', 'b','y'], figsize=(15,8), fontsize=8, title=\"Commits per day\", rot=90, stacked=True, alpha=0.6)\n",
    "view.grid(axis='y')"
   ]
  },
  {
   "cell_type": "markdown",
   "id": "82f640b5",
   "metadata": {},
   "source": [
    "### When do our users usually commit the labs: in the night, morning, afternoon, or evening?"
   ]
  },
  {
   "cell_type": "code",
   "execution_count": 17,
   "id": "ebbaa6cc",
   "metadata": {},
   "outputs": [
    {
     "name": "stdout",
     "output_type": "stream",
     "text": [
      "in the afternoon and in the evening with the numbers 1473 and 1369 respectively\n"
     ]
    }
   ],
   "source": [
    "print(f'in the {periods.sum().nlargest(2).index[0]} and in the {periods.sum().nlargest(2).index[1]} with the numbers {int(periods.sum().nlargest(2).iloc[0])} and {int(periods.sum().nlargest(2).iloc[1])} respectively')"
   ]
  },
  {
   "cell_type": "markdown",
   "id": "4a74c8c8",
   "metadata": {},
   "source": [
    "### Which day has the most number of commits"
   ]
  },
  {
   "cell_type": "code",
   "execution_count": 20,
   "id": "469e02fb",
   "metadata": {},
   "outputs": [
    {
     "name": "stdout",
     "output_type": "stream",
     "text": [
      "A day with the most number of commits: 2020-05-14 with the number 575\n"
     ]
    }
   ],
   "source": [
    "print(f'A day with the most number of commits: {periods.sum(axis=1).nlargest(1).index[0]} with the number {periods.sum(axis=1).nlargest(1).iloc[0]}')"
   ]
  },
  {
   "cell_type": "code",
   "execution_count": 21,
   "id": "c12f3b71",
   "metadata": {},
   "outputs": [
    {
     "name": "stdout",
     "output_type": "stream",
     "text": [
      "A day with the most number of commits: 2020-05-12 with the number 323\n"
     ]
    }
   ],
   "source": [
    "ans=periods[periods['evening']>periods['afternoon']].sum(axis=1).nlargest(1)\n",
    "print(f'A day with the most number of commits: {ans.index[0]} with the number {ans.iloc[0]}')\n"
   ]
  },
  {
   "cell_type": "code",
   "execution_count": 10,
   "id": "fbcd2971",
   "metadata": {},
   "outputs": [],
   "source": [
    "connect.close()"
   ]
  },
  {
   "cell_type": "code",
   "execution_count": null,
   "id": "ba25876e",
   "metadata": {},
   "outputs": [],
   "source": []
  }
 ],
 "metadata": {
  "kernelspec": {
   "display_name": "Python 3",
   "language": "python",
   "name": "python3"
  },
  "language_info": {
   "codemirror_mode": {
    "name": "ipython",
    "version": 3
   },
   "file_extension": ".py",
   "mimetype": "text/x-python",
   "name": "python",
   "nbconvert_exporter": "python",
   "pygments_lexer": "ipython3",
   "version": "3.10.12"
  }
 },
 "nbformat": 4,
 "nbformat_minor": 5
}
